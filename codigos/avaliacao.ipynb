{
 "cells": [
  {
   "cell_type": "code",
   "execution_count": null,
   "id": "7de22dee",
   "metadata": {},
   "outputs": [],
   "source": [
    "from ultralytics import YOLO\n",
    "import sys\n",
    "import io\n",
    "from datetime import datetime\n",
    "import warnings\n",
    "from rich import print\n",
    "from rich.table import Table\n",
    "from rich.panel import Panel\n",
    "warnings.filterwarnings(\"ignore\")"
   ]
  },
  {
   "cell_type": "code",
   "execution_count": 38,
   "id": "114229f2",
   "metadata": {},
   "outputs": [],
   "source": [
    "def evaluate_model(model_path, data_path='../data.yaml'):\n",
    "    model = YOLO(model_path)\n",
    "\n",
    "    buffer = io.StringIO()\n",
    "    sys.stdout = buffer\n",
    "    metrics = model.val(data=data_path, split='val', task='detect', workers=0)\n",
    "    sys.stdout = sys.__stdout__\n",
    "\n",
    "    # Extrai métricas\n",
    "    precision = float(metrics.results_dict['metrics/precision(B)'])\n",
    "    recall = float(metrics.results_dict['metrics/recall(B)'])\n",
    "    map50 = float(metrics.results_dict['metrics/mAP50(B)'])\n",
    "    map95 = float(metrics.results_dict['metrics/mAP50-95(B)'])\n",
    "    f1_score = 2 * (precision * recall) / (precision + recall + 1e-8)\n",
    "\n",
    "    # Salva log em .txt, incluindo métricas resumidas\n",
    "    timestamp = datetime.now().strftime(\"%Y%m%d_%H%M%S\")\n",
    "    model_name = model_path.split('/')[-1].replace('.pt', '')\n",
    "    log_file = f\"../logs/log_{model_name}_{timestamp}.txt\"\n",
    "    with open(log_file, 'w', encoding='utf-8') as f:\n",
    "        f.write(buffer.getvalue())\n",
    "        f.write(f\"\\n📊 Avaliação do modelo: {model_name}\\n\")\n",
    "        f.write(f\"  Precision:  {precision:.4f}\\n\")\n",
    "        f.write(f\"  Recall:     {recall:.4f}\\n\")\n",
    "        f.write(f\"  mAP@50:     {map50:.4f}\\n\")\n",
    "        f.write(f\"  mAP@50-95:  {map95:.4f}\\n\")\n",
    "        f.write(f\"  F1 Score:   {f1_score:.4f}\\n\")\n",
    "\n",
    "    table = Table(title=f\"Avaliação do modelo: [bold white]{model_name}[/bold white]\", header_style=\"grey54\")\n",
    "\n",
    "    table.add_column(\"Métrica\", style=\"bold white\")\n",
    "    table.add_column(\"Valor\", style=\"bold cyan\")\n",
    "    table.add_row(\"Precision\", f\"{precision:.4f}\")\n",
    "    table.add_row(\"Recall\", f\"{recall:.4f}\")\n",
    "    table.add_row(\"mAP@50\", f\"{map50:.4f}\")\n",
    "    table.add_row(\"mAP@50-95\", f\"{map95:.4f}\")\n",
    "    table.add_row(\"F1 Score\", f\"{f1_score:.4f}\")\n",
    "\n",
    "    print(table)\n",
    "    print(f\"\\n[sky_blue2]🔽 Log salvo em:[/] [italic grey66]{log_file}[/]\")"
   ]
  },
  {
   "cell_type": "code",
   "execution_count": null,
   "id": "215bcd31",
   "metadata": {},
   "outputs": [
    {
     "name": "stderr",
     "output_type": "stream",
     "text": [
      "\u001b[34m\u001b[1mval: \u001b[0mScanning C:\\Users\\volty\\OneDrive\\Desktop\\topicos de Ia - Trab Grupo\\greenIa\\valid\\labels.cache... 284 images, 45 backgrounds, 0 corrupt: 100%|██████████| 284/284 [00:00<?, ?it/s]\n",
      "                 Class     Images  Instances      Box(P          R      mAP50  mAP50-95): 100%|██████████| 18/18 [00:25<00:00,  1.39s/it]\n"
     ]
    },
    {
     "data": {
      "text/html": [
       "<pre style=\"white-space:pre;overflow-x:auto;line-height:normal;font-family:Menlo,'DejaVu Sans Mono',consolas,'Courier New',monospace\"><span style=\"font-style: italic\"> Avaliação do modelo: </span>\n",
       "<span style=\"font-style: italic\">         </span><span style=\"color: #c0c0c0; text-decoration-color: #c0c0c0; font-weight: bold; font-style: italic\">best</span><span style=\"font-style: italic\">         </span>\n",
       "┏━━━━━━━━━━━┳━━━━━━━━┓\n",
       "┃<span style=\"color: #8a8a8a; text-decoration-color: #8a8a8a\"> Métrica   </span>┃<span style=\"color: #8a8a8a; text-decoration-color: #8a8a8a\"> Valor  </span>┃\n",
       "┡━━━━━━━━━━━╇━━━━━━━━┩\n",
       "│<span style=\"color: #c0c0c0; text-decoration-color: #c0c0c0; font-weight: bold\"> Precision </span>│<span style=\"color: #008080; text-decoration-color: #008080; font-weight: bold\"> 0.8316 </span>│\n",
       "│<span style=\"color: #c0c0c0; text-decoration-color: #c0c0c0; font-weight: bold\"> Recall    </span>│<span style=\"color: #008080; text-decoration-color: #008080; font-weight: bold\"> 0.7933 </span>│\n",
       "│<span style=\"color: #c0c0c0; text-decoration-color: #c0c0c0; font-weight: bold\"> mAP@50    </span>│<span style=\"color: #008080; text-decoration-color: #008080; font-weight: bold\"> 0.7965 </span>│\n",
       "│<span style=\"color: #c0c0c0; text-decoration-color: #c0c0c0; font-weight: bold\"> mAP@50-95 </span>│<span style=\"color: #008080; text-decoration-color: #008080; font-weight: bold\"> 0.4904 </span>│\n",
       "│<span style=\"color: #c0c0c0; text-decoration-color: #c0c0c0; font-weight: bold\"> F1 Score  </span>│<span style=\"color: #008080; text-decoration-color: #008080; font-weight: bold\"> 0.8120 </span>│\n",
       "└───────────┴────────┘\n",
       "</pre>\n"
      ],
      "text/plain": [
       "\u001b[3m Avaliação do modelo: \u001b[0m\n",
       "\u001b[3m         \u001b[0m\u001b[1;3;37mbest\u001b[0m\u001b[3m         \u001b[0m\n",
       "┏━━━━━━━━━━━┳━━━━━━━━┓\n",
       "┃\u001b[38;5;245m \u001b[0m\u001b[38;5;245mMétrica  \u001b[0m\u001b[38;5;245m \u001b[0m┃\u001b[38;5;245m \u001b[0m\u001b[38;5;245mValor \u001b[0m\u001b[38;5;245m \u001b[0m┃\n",
       "┡━━━━━━━━━━━╇━━━━━━━━┩\n",
       "│\u001b[1;37m \u001b[0m\u001b[1;37mPrecision\u001b[0m\u001b[1;37m \u001b[0m│\u001b[1;36m \u001b[0m\u001b[1;36m0.8316\u001b[0m\u001b[1;36m \u001b[0m│\n",
       "│\u001b[1;37m \u001b[0m\u001b[1;37mRecall   \u001b[0m\u001b[1;37m \u001b[0m│\u001b[1;36m \u001b[0m\u001b[1;36m0.7933\u001b[0m\u001b[1;36m \u001b[0m│\n",
       "│\u001b[1;37m \u001b[0m\u001b[1;37mmAP@50   \u001b[0m\u001b[1;37m \u001b[0m│\u001b[1;36m \u001b[0m\u001b[1;36m0.7965\u001b[0m\u001b[1;36m \u001b[0m│\n",
       "│\u001b[1;37m \u001b[0m\u001b[1;37mmAP@50-95\u001b[0m\u001b[1;37m \u001b[0m│\u001b[1;36m \u001b[0m\u001b[1;36m0.4904\u001b[0m\u001b[1;36m \u001b[0m│\n",
       "│\u001b[1;37m \u001b[0m\u001b[1;37mF1 Score \u001b[0m\u001b[1;37m \u001b[0m│\u001b[1;36m \u001b[0m\u001b[1;36m0.8120\u001b[0m\u001b[1;36m \u001b[0m│\n",
       "└───────────┴────────┘\n"
      ]
     },
     "metadata": {},
     "output_type": "display_data"
    },
    {
     "data": {
      "text/html": [
       "<pre style=\"white-space:pre;overflow-x:auto;line-height:normal;font-family:Menlo,'DejaVu Sans Mono',consolas,'Courier New',monospace\">\n",
       "<span style=\"color: #87afff; text-decoration-color: #87afff\">🔽 Log salvo em:</span> <span style=\"color: #a8a8a8; text-decoration-color: #a8a8a8; font-style: italic\">../logs/log_best_20250624_151206.txt</span>\n",
       "</pre>\n"
      ],
      "text/plain": [
       "\n",
       "\u001b[38;5;111m🔽 Log salvo em:\u001b[0m \u001b[3;38;5;248m..\u001b[0m\u001b[3;38;5;248m/logs/\u001b[0m\u001b[3;38;5;248mlog_best_20250624_151206.txt\u001b[0m\n"
      ]
     },
     "metadata": {},
     "output_type": "display_data"
    }
   ],
   "source": [
    "evaluate_model('../runs/train/yolov11-greenIA2/weights/best.pt')"
   ]
  },
  {
   "cell_type": "code",
   "execution_count": 42,
   "id": "5c61be16",
   "metadata": {},
   "outputs": [
    {
     "name": "stderr",
     "output_type": "stream",
     "text": [
      "\u001b[34m\u001b[1mval: \u001b[0mScanning C:\\Users\\volty\\OneDrive\\Desktop\\topicos de Ia - Trab Grupo\\greenIa\\valid\\labels.cache... 284 images, 45 backgrounds, 0 corrupt: 100%|██████████| 284/284 [00:00<?, ?it/s]\n",
      "                 Class     Images  Instances      Box(P          R      mAP50  mAP50-95): 100%|██████████| 18/18 [00:27<00:00,  1.55s/it]\n"
     ]
    },
    {
     "data": {
      "text/html": [
       "<pre style=\"white-space:pre;overflow-x:auto;line-height:normal;font-family:Menlo,'DejaVu Sans Mono',consolas,'Courier New',monospace\"><span style=\"font-style: italic\"> Avaliação do modelo: </span>\n",
       "<span style=\"font-style: italic\">    </span><span style=\"color: #c0c0c0; text-decoration-color: #c0c0c0; font-weight: bold; font-style: italic\">yolo11n_pruned</span><span style=\"font-style: italic\">    </span>\n",
       "┏━━━━━━━━━━━┳━━━━━━━━┓\n",
       "┃<span style=\"color: #8a8a8a; text-decoration-color: #8a8a8a\"> Métrica   </span>┃<span style=\"color: #8a8a8a; text-decoration-color: #8a8a8a\"> Valor  </span>┃\n",
       "┡━━━━━━━━━━━╇━━━━━━━━┩\n",
       "│<span style=\"color: #c0c0c0; text-decoration-color: #c0c0c0; font-weight: bold\"> Precision </span>│<span style=\"color: #008080; text-decoration-color: #008080; font-weight: bold\"> 0.5696 </span>│\n",
       "│<span style=\"color: #c0c0c0; text-decoration-color: #c0c0c0; font-weight: bold\"> Recall    </span>│<span style=\"color: #008080; text-decoration-color: #008080; font-weight: bold\"> 0.1417 </span>│\n",
       "│<span style=\"color: #c0c0c0; text-decoration-color: #c0c0c0; font-weight: bold\"> mAP@50    </span>│<span style=\"color: #008080; text-decoration-color: #008080; font-weight: bold\"> 0.0618 </span>│\n",
       "│<span style=\"color: #c0c0c0; text-decoration-color: #c0c0c0; font-weight: bold\"> mAP@50-95 </span>│<span style=\"color: #008080; text-decoration-color: #008080; font-weight: bold\"> 0.0232 </span>│\n",
       "│<span style=\"color: #c0c0c0; text-decoration-color: #c0c0c0; font-weight: bold\"> F1 Score  </span>│<span style=\"color: #008080; text-decoration-color: #008080; font-weight: bold\"> 0.2269 </span>│\n",
       "└───────────┴────────┘\n",
       "</pre>\n"
      ],
      "text/plain": [
       "\u001b[3m Avaliação do modelo: \u001b[0m\n",
       "\u001b[3m    \u001b[0m\u001b[1;3;37myolo11n_pruned\u001b[0m\u001b[3m    \u001b[0m\n",
       "┏━━━━━━━━━━━┳━━━━━━━━┓\n",
       "┃\u001b[38;5;245m \u001b[0m\u001b[38;5;245mMétrica  \u001b[0m\u001b[38;5;245m \u001b[0m┃\u001b[38;5;245m \u001b[0m\u001b[38;5;245mValor \u001b[0m\u001b[38;5;245m \u001b[0m┃\n",
       "┡━━━━━━━━━━━╇━━━━━━━━┩\n",
       "│\u001b[1;37m \u001b[0m\u001b[1;37mPrecision\u001b[0m\u001b[1;37m \u001b[0m│\u001b[1;36m \u001b[0m\u001b[1;36m0.5696\u001b[0m\u001b[1;36m \u001b[0m│\n",
       "│\u001b[1;37m \u001b[0m\u001b[1;37mRecall   \u001b[0m\u001b[1;37m \u001b[0m│\u001b[1;36m \u001b[0m\u001b[1;36m0.1417\u001b[0m\u001b[1;36m \u001b[0m│\n",
       "│\u001b[1;37m \u001b[0m\u001b[1;37mmAP@50   \u001b[0m\u001b[1;37m \u001b[0m│\u001b[1;36m \u001b[0m\u001b[1;36m0.0618\u001b[0m\u001b[1;36m \u001b[0m│\n",
       "│\u001b[1;37m \u001b[0m\u001b[1;37mmAP@50-95\u001b[0m\u001b[1;37m \u001b[0m│\u001b[1;36m \u001b[0m\u001b[1;36m0.0232\u001b[0m\u001b[1;36m \u001b[0m│\n",
       "│\u001b[1;37m \u001b[0m\u001b[1;37mF1 Score \u001b[0m\u001b[1;37m \u001b[0m│\u001b[1;36m \u001b[0m\u001b[1;36m0.2269\u001b[0m\u001b[1;36m \u001b[0m│\n",
       "└───────────┴────────┘\n"
      ]
     },
     "metadata": {},
     "output_type": "display_data"
    },
    {
     "data": {
      "text/html": [
       "<pre style=\"white-space:pre;overflow-x:auto;line-height:normal;font-family:Menlo,'DejaVu Sans Mono',consolas,'Courier New',monospace\">\n",
       "<span style=\"color: #87afff; text-decoration-color: #87afff\">🔽 Log salvo em:</span> <span style=\"color: #a8a8a8; text-decoration-color: #a8a8a8; font-style: italic\">../logs/log_yolo11n_pruned_20250624_151236.txt</span>\n",
       "</pre>\n"
      ],
      "text/plain": [
       "\n",
       "\u001b[38;5;111m🔽 Log salvo em:\u001b[0m \u001b[3;38;5;248m..\u001b[0m\u001b[3;38;5;248m/logs/\u001b[0m\u001b[3;38;5;248mlog_yolo11n_pruned_20250624_151236.txt\u001b[0m\n"
      ]
     },
     "metadata": {},
     "output_type": "display_data"
    }
   ],
   "source": [
    "evaluate_model('../modelos/yolo11n_pruned.pt')"
   ]
  },
  {
   "cell_type": "code",
   "execution_count": 43,
   "id": "fc5a9ef4",
   "metadata": {},
   "outputs": [
    {
     "name": "stderr",
     "output_type": "stream",
     "text": [
      "\u001b[34m\u001b[1mval: \u001b[0mScanning C:\\Users\\volty\\OneDrive\\Desktop\\topicos de Ia - Trab Grupo\\greenIa\\valid\\labels.cache... 284 images, 45 backgrounds, 0 corrupt: 100%|██████████| 284/284 [00:00<?, ?it/s]\n",
      "                 Class     Images  Instances      Box(P          R      mAP50  mAP50-95): 100%|██████████| 18/18 [00:26<00:00,  1.48s/it]\n"
     ]
    },
    {
     "data": {
      "text/html": [
       "<pre style=\"white-space:pre;overflow-x:auto;line-height:normal;font-family:Menlo,'DejaVu Sans Mono',consolas,'Courier New',monospace\"><span style=\"font-style: italic\"> Avaliação do modelo: </span>\n",
       "<span style=\"font-style: italic\">  </span><span style=\"color: #c0c0c0; text-decoration-color: #c0c0c0; font-weight: bold; font-style: italic\">yolo11n_quantized</span><span style=\"font-style: italic\">   </span>\n",
       "┏━━━━━━━━━━━┳━━━━━━━━┓\n",
       "┃<span style=\"color: #8a8a8a; text-decoration-color: #8a8a8a\"> Métrica   </span>┃<span style=\"color: #8a8a8a; text-decoration-color: #8a8a8a\"> Valor  </span>┃\n",
       "┡━━━━━━━━━━━╇━━━━━━━━┩\n",
       "│<span style=\"color: #c0c0c0; text-decoration-color: #c0c0c0; font-weight: bold\"> Precision </span>│<span style=\"color: #008080; text-decoration-color: #008080; font-weight: bold\"> 0.8316 </span>│\n",
       "│<span style=\"color: #c0c0c0; text-decoration-color: #c0c0c0; font-weight: bold\"> Recall    </span>│<span style=\"color: #008080; text-decoration-color: #008080; font-weight: bold\"> 0.7933 </span>│\n",
       "│<span style=\"color: #c0c0c0; text-decoration-color: #c0c0c0; font-weight: bold\"> mAP@50    </span>│<span style=\"color: #008080; text-decoration-color: #008080; font-weight: bold\"> 0.7965 </span>│\n",
       "│<span style=\"color: #c0c0c0; text-decoration-color: #c0c0c0; font-weight: bold\"> mAP@50-95 </span>│<span style=\"color: #008080; text-decoration-color: #008080; font-weight: bold\"> 0.4904 </span>│\n",
       "│<span style=\"color: #c0c0c0; text-decoration-color: #c0c0c0; font-weight: bold\"> F1 Score  </span>│<span style=\"color: #008080; text-decoration-color: #008080; font-weight: bold\"> 0.8120 </span>│\n",
       "└───────────┴────────┘\n",
       "</pre>\n"
      ],
      "text/plain": [
       "\u001b[3m Avaliação do modelo: \u001b[0m\n",
       "\u001b[3m  \u001b[0m\u001b[1;3;37myolo11n_quantized\u001b[0m\u001b[3m   \u001b[0m\n",
       "┏━━━━━━━━━━━┳━━━━━━━━┓\n",
       "┃\u001b[38;5;245m \u001b[0m\u001b[38;5;245mMétrica  \u001b[0m\u001b[38;5;245m \u001b[0m┃\u001b[38;5;245m \u001b[0m\u001b[38;5;245mValor \u001b[0m\u001b[38;5;245m \u001b[0m┃\n",
       "┡━━━━━━━━━━━╇━━━━━━━━┩\n",
       "│\u001b[1;37m \u001b[0m\u001b[1;37mPrecision\u001b[0m\u001b[1;37m \u001b[0m│\u001b[1;36m \u001b[0m\u001b[1;36m0.8316\u001b[0m\u001b[1;36m \u001b[0m│\n",
       "│\u001b[1;37m \u001b[0m\u001b[1;37mRecall   \u001b[0m\u001b[1;37m \u001b[0m│\u001b[1;36m \u001b[0m\u001b[1;36m0.7933\u001b[0m\u001b[1;36m \u001b[0m│\n",
       "│\u001b[1;37m \u001b[0m\u001b[1;37mmAP@50   \u001b[0m\u001b[1;37m \u001b[0m│\u001b[1;36m \u001b[0m\u001b[1;36m0.7965\u001b[0m\u001b[1;36m \u001b[0m│\n",
       "│\u001b[1;37m \u001b[0m\u001b[1;37mmAP@50-95\u001b[0m\u001b[1;37m \u001b[0m│\u001b[1;36m \u001b[0m\u001b[1;36m0.4904\u001b[0m\u001b[1;36m \u001b[0m│\n",
       "│\u001b[1;37m \u001b[0m\u001b[1;37mF1 Score \u001b[0m\u001b[1;37m \u001b[0m│\u001b[1;36m \u001b[0m\u001b[1;36m0.8120\u001b[0m\u001b[1;36m \u001b[0m│\n",
       "└───────────┴────────┘\n"
      ]
     },
     "metadata": {},
     "output_type": "display_data"
    },
    {
     "data": {
      "text/html": [
       "<pre style=\"white-space:pre;overflow-x:auto;line-height:normal;font-family:Menlo,'DejaVu Sans Mono',consolas,'Courier New',monospace\">\n",
       "<span style=\"color: #87afff; text-decoration-color: #87afff\">🔽 Log salvo em:</span> <span style=\"color: #a8a8a8; text-decoration-color: #a8a8a8; font-style: italic\">../logs/log_yolo11n_quantized_20250624_151304.txt</span>\n",
       "</pre>\n"
      ],
      "text/plain": [
       "\n",
       "\u001b[38;5;111m🔽 Log salvo em:\u001b[0m \u001b[3;38;5;248m..\u001b[0m\u001b[3;38;5;248m/logs/\u001b[0m\u001b[3;38;5;248mlog_yolo11n_quantized_20250624_151304.txt\u001b[0m\n"
      ]
     },
     "metadata": {},
     "output_type": "display_data"
    }
   ],
   "source": [
    "evaluate_model('../modelos/yolo11n_quantized.pt')"
   ]
  }
 ],
 "metadata": {
  "kernelspec": {
   "display_name": "Python 3",
   "language": "python",
   "name": "python3"
  },
  "language_info": {
   "codemirror_mode": {
    "name": "ipython",
    "version": 3
   },
   "file_extension": ".py",
   "mimetype": "text/x-python",
   "name": "python",
   "nbconvert_exporter": "python",
   "pygments_lexer": "ipython3",
   "version": "3.12.0"
  }
 },
 "nbformat": 4,
 "nbformat_minor": 5
}
